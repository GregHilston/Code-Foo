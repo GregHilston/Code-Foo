{
 "cells": [
  {
   "cell_type": "code",
   "execution_count": 10,
   "metadata": {},
   "outputs": [],
   "source": [
    "from PIL import Image, ImageDraw # allows us to draw\n",
    "import hashlib                   # allows us to compute the has of a given string\n",
    "import random                    # allows us to generate an offset\n",
    "import math                      # allows access to log function\n",
    "import matplotlib                # allows us to get all colors by string"
   ]
  },
  {
   "cell_type": "code",
   "execution_count": 11,
   "metadata": {},
   "outputs": [],
   "source": [
    "def actually_draw_square(canvas_mode, canvas_size_in_pixels, canvas_background_color_rgb, rectangle_position, rectangle_fill, rectangle_outline):\n",
    "    \"\"\"Draws a square based on input args.\n",
    "    \n",
    "    Args:\n",
    "        canvas_mode (String): The mode of an image defines the type and depth of a pixel in the image. See https://pillow.readthedocs.io/en/3.1.x/handbook/concepts.html#concept-modes for supported modes\n",
    "        canvas_size_in_pixels (2-tuple): A 2-tuple, containing (width, height) in pixels.\n",
    "        canvas_background_color_rgb (String): What color to use for the image. Default is black. If given, this should be a single integer or floating point value for single-band modes, and a tuple for multi-band modes (one value per band). When creating RGB images, you can also use color strings as supported by the ImageColor module. If the color is None, the image is not initialised.\n",
    "        rectangle_position (Tuple of two Tuples): Four points to define the bounding box. Sequence of either \n",
    "        rectangle_fill (String): Color to use for the fill.\n",
    "        rectangle_outline(String): Color to use for the outline.\n",
    "        \n",
    "    Returns:\n",
    "        None\n",
    "        \n",
    "    \"\"\"\n",
    "    im = Image.new(canvas_mode, canvas_size_in_pixels, canvas_background_color_rgb)\n",
    "    dr = ImageDraw.Draw(im)\n",
    "\n",
    "    dr.rectangle(rectangle_position, fill=rectangle_fill, outline=rectangle_outline)\n",
    "\n",
    "    im.save(\"square.png\")"
   ]
  },
  {
   "cell_type": "code",
   "execution_count": 12,
   "metadata": {},
   "outputs": [],
   "source": [
    "def position_from_seed(seed):\n",
    "    \"\"\"Pulls position from a seed which is a md5 in hex\n",
    "    \n",
    "    Args:\n",
    "        seed (String): seed md5 in hex\n",
    "        \n",
    "    Returns:\n",
    "        Position (Tuple of two Tuples): Four points to define the bounding box.\n",
    "    \n",
    "    \"\"\"\n",
    "    random.seed(seed)\n",
    "    ascii_character_sum = sum(bytearray(seed, \"utf8\")) # Sums the ASCII values of every character\n",
    "    offset = random.randint(1, 100)\n",
    "    start_position = (math.log(ascii_character_sum / 100) + offset, math.log(ascii_character_sum / 100) + offset)\n",
    "    end_positon = (start_position[0] + 100, start_position[1] + 100)\n",
    "    square_position = (start_position, end_positon)\n",
    "    print(square_position)\n",
    "    \n",
    "    return square_position"
   ]
  },
  {
   "cell_type": "code",
   "execution_count": 13,
   "metadata": {},
   "outputs": [],
   "source": [
    "def color_from_seed(seed):\n",
    "    \"\"\"Pulls color from a seed which is a md5 in hex\n",
    "    \n",
    "    Args:\n",
    "        seed (String): seed md5 in hex\n",
    "        \n",
    "    Returns:\n",
    "        color (String): Some color\n",
    "    \n",
    "    \"\"\"\n",
    "    supported_colors = []\n",
    "    for name, hex in matplotlib.colors.cnames.items():\n",
    "        supported_colors.append(hex)\n",
    "    ascii_character_sum = sum(bytearray(seed, \"utf8\")) # Sums the ASCII values of every character\n",
    "    selection = ascii_character_sum % len(supported_colors)\n",
    "    \n",
    "    return supported_colors[selection]"
   ]
  },
  {
   "cell_type": "code",
   "execution_count": 14,
   "metadata": {},
   "outputs": [],
   "source": [
    "def square_parameters_from_seed(seed):\n",
    "    \"\"\"Pulls out square parameters from a seed which is a md5 in hex.\n",
    "    \n",
    "    Args:\n",
    "        seed (String): Input string to be used to generate a seed.\n",
    "       \n",
    "    Returns:\n",
    "        canvas_mode (String): The mode of an image defines the type and depth of a pixel in the image. See https://pillow.readthedocs.io/en/3.1.x/handbook/concepts.html#concept-modes for supported modes\n",
    "        canvas_size_in_pixels (2-tuple): A 2-tuple, containing (width, height) in pixels.\n",
    "        canvas_background_color_rgb (String): What color to use for the image. Default is black. If given, this should be a single integer or floating point value for single-band modes, and a tuple for multi-band modes (one value per band). When creating RGB images, you can also use color strings as supported by the ImageColor module. If the color is None, the image is not initialised.\n",
    "        rectangle_position (Tuple of two Tuples): Four points to define the bounding box.\n",
    "        rectangle_fill (String): Color to use for the fill.\n",
    "        rectangle_outline(String): Color to use for the outline.\n",
    "        \n",
    "    \"\"\"\n",
    "    # canvas\n",
    "    canvas_mode = \"RGB\"\n",
    "    canvas_size_in_pixels = (200, 200)\n",
    "    canvas_background_color_rgb = (255, 255, 255) # white\n",
    "    \n",
    "    # rectangle\n",
    "    rectangle_position = position_from_seed(seed) # ((0, 0), (10, 10))\n",
    "    rectangle_fill = color_from_seed(seed)\n",
    "    rectangle_outline = color_from_seed(seed + str(random.randint(1, 100))) # offset\n",
    "    \n",
    "    return canvas_mode, canvas_size_in_pixels, canvas_background_color_rgb, rectangle_position, rectangle_fill, rectangle_outline"
   ]
  },
  {
   "cell_type": "code",
   "execution_count": 15,
   "metadata": {},
   "outputs": [],
   "source": [
    "def generate_seed(input):\n",
    "    \"\"\"Generates a seed from a given input string.\n",
    "    \n",
    "    Args:\n",
    "        input (String): input string to generate seed from\n",
    "        \n",
    "    Returns:\n",
    "        (String): md5 hash\n",
    "        \n",
    "    \"\"\"\n",
    "    return hashlib.md5(input.encode(\"utf8\")).hexdigest()"
   ]
  },
  {
   "cell_type": "code",
   "execution_count": 16,
   "metadata": {},
   "outputs": [],
   "source": [
    "def draw_square(input):    \n",
    "    \"\"\"Draws a square based on the input string.\n",
    "    \n",
    "    Args:\n",
    "        input (String): Input string to be used to generate a seed to draw a square.\n",
    "    \n",
    "    Returns: \n",
    "        None\n",
    "        \n",
    "    \"\"\"\n",
    "    seed = generate_seed(input)\n",
    "    \n",
    "    canvas_mode, canvas_size_in_pixels, canvas_background_color_rgb, rectangle_position, rectangle_fill, rectangle_outline = square_parameters_from_seed(seed)\n",
    "        \n",
    "    actually_draw_square(canvas_mode, canvas_size_in_pixels, canvas_background_color_rgb, rectangle_position, rectangle_fill, rectangle_outline)"
   ]
  },
  {
   "cell_type": "code",
   "execution_count": 29,
   "metadata": {},
   "outputs": [
    {
     "name": "stdout",
     "output_type": "stream",
     "text": [
      "((67.20071185424052, 67.20071185424052), (167.20071185424052, 167.20071185424052))\n"
     ]
    }
   ],
   "source": [
    "draw_square(\"Grehg\")"
   ]
  },
  {
   "cell_type": "code",
   "execution_count": 30,
   "metadata": {},
   "outputs": [
    {
     "data": {
      "text/html": [
       "<img src=\"square.png\">\n"
      ],
      "text/plain": [
       "<IPython.core.display.HTML object>"
      ]
     },
     "metadata": {},
     "output_type": "display_data"
    }
   ],
   "source": [
    "%%html\n",
    "<img src=\"square.png\">"
   ]
  },
  {
   "cell_type": "code",
   "execution_count": null,
   "metadata": {},
   "outputs": [],
   "source": []
  }
 ],
 "metadata": {
  "kernelspec": {
   "display_name": "challenge_10_the_start_of_something_big",
   "language": "python",
   "name": "challenge_10_the_start_of_something_big"
  },
  "language_info": {
   "codemirror_mode": {
    "name": "ipython",
    "version": 3
   },
   "file_extension": ".py",
   "mimetype": "text/x-python",
   "name": "python",
   "nbconvert_exporter": "python",
   "pygments_lexer": "ipython3",
   "version": "3.6.4"
  }
 },
 "nbformat": 4,
 "nbformat_minor": 2
}
